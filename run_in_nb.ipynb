{
 "cells": [
  {
   "cell_type": "code",
   "execution_count": 4,
   "metadata": {},
   "outputs": [
    {
     "name": "stdout",
     "output_type": "stream",
     "text": [
      "\n",
      "For help, use: python dimorphite_dl.py --help\n",
      "\n",
      "If you use Dimorphite-DL in your research, please cite:\n",
      "Ropp PJ, Kaminsky JC, Yablonski S, Durrant JD (2019) Dimorphite-DL: An\n",
      "open-source program for enumerating the ionization states of drug-like small\n",
      "molecules. J Cheminform 11:14. doi:10.1186/s13321-019-0336-9.\n",
      "\n",
      "main args updated: {'min_ph': -3.0, 'max_ph': -2.0, 'pka_precision': 1.0, 'smiles': 'CCCN', 'smiles_file': None, 'output_file': 'output.smi', 'max_variants': 128, 'label_states': False, 'silent': False, 'test': False}\n",
      "Output of first test saved to output.smi...\n"
     ]
    }
   ],
   "source": [
    "from rdkit import Chem\n",
    "import dimorphite_dl\n",
    "\n",
    "# Using the dimorphite_dl.run() function, you can run Dimorphite-DL exactly as\n",
    "# you would from the command line. Here's an example:\n",
    "dimorphite_dl.run(\n",
    "   smiles=\"CCCN\",\n",
    "   min_ph=-3.0,\n",
    "   max_ph=-2.0,\n",
    "   silent=False, # show verbose messages if silent is False.\n",
    "   output_file=\"output.smi\"\n",
    ")\n",
    "print(\"Output of first test saved to output.smi...\")"
   ]
  },
  {
   "cell_type": "code",
   "execution_count": 2,
   "metadata": {},
   "outputs": [
    {
     "name": "stdout",
     "output_type": "stream",
     "text": [
      "CCC[NH3+]\t\n",
      "\n"
     ]
    }
   ],
   "source": [
    "# worked fine\n",
    "with open(\"output.smi\") as fp:\n",
    "\tprint(fp.read())"
   ]
  },
  {
   "cell_type": "code",
   "execution_count": 5,
   "metadata": {},
   "outputs": [
    {
     "name": "stdout",
     "output_type": "stream",
     "text": [
      "['C[C@](F)(Br)CC(=O)[O-]', 'CCCCC[NH3+]', 'CCCCCN']\n",
      "['Orig SMILES: C[C@](F)(Br)CC(O)=O', 'Orig SMILES: CCCCCN', 'Orig SMILES: CCCCCN']\n"
     ]
    }
   ],
   "source": [
    "# Using the dimorphite_dl.run_with_mol_list() function, you can also pass a\n",
    "# list of RDKit Mol objects. The first argument is always the list.\n",
    "smiles = [\"C[C@](F)(Br)CC(O)=O\", \"CCCCCN\"]\n",
    "mols = [Chem.MolFromSmiles(s) for s in smiles]\n",
    "for i, mol in enumerate(mols):\n",
    "    mol.SetProp(\"msg\",\"Orig SMILES: \" + smiles[i])\n",
    "\n",
    "protonated_mols = dimorphite_dl.run_with_mol_list(\n",
    "    mols,\n",
    "    min_ph=5.0,\n",
    "    max_ph=9.0,\n",
    "\tsilent=False, # show verbose messages if silent is False.\n",
    ")\n",
    "print([Chem.MolToSmiles(m) for m in protonated_mols])\n",
    "\n",
    "# Note that properties are preserved.\n",
    "print([m.GetProp(\"msg\") for m in protonated_mols])"
   ]
  }
 ],
 "metadata": {
  "kernelspec": {
   "display_name": "forscop2023",
   "language": "python",
   "name": "python3"
  },
  "language_info": {
   "codemirror_mode": {
    "name": "ipython",
    "version": 3
   },
   "file_extension": ".py",
   "mimetype": "text/x-python",
   "name": "python",
   "nbconvert_exporter": "python",
   "pygments_lexer": "ipython3",
   "version": "3.11.4"
  },
  "orig_nbformat": 4
 },
 "nbformat": 4,
 "nbformat_minor": 2
}
